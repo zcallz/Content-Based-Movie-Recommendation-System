{
  "nbformat": 4,
  "nbformat_minor": 0,
  "metadata": {
    "colab": {
      "provenance": []
    },
    "kernelspec": {
      "name": "python3",
      "display_name": "Python 3"
    },
    "language_info": {
      "name": "python"
    }
  },
  "cells": [
    {
      "cell_type": "code",
      "source": [
        "import pandas as pd\n",
        "import numpy as np\n",
        "from sklearn.feature_extraction.text import TfidfVectorizer\n",
        "from sklearn.metrics.pairwise import cosine_similarity\n",
        "from difflib import get_close_matches  # ✅ Fuzzy matching\n",
        "\n",
        "# Sample movie dataset\n",
        "file_path = \"movies_metadata.csv\"\n",
        "df = pd.read_csv(\n",
        "    file_path,\n",
        "    encoding=\"ISO-8859-1\",\n",
        "    on_bad_lines=\"skip\",\n",
        "    dtype={\"id\": str},\n",
        "    engine=\"python\"\n",
        ")\n",
        "\n",
        "# 🔹 Clean movie titles and genres for better matching\n",
        "df[\"title_cleaned\"] = df[\"title\"].str.strip().str.lower()\n",
        "df[\"genres_cleaned\"] = df[\"genres\"].apply(lambda x: set(x.lower().split()))\n",
        "\n",
        "# 🔹 Create TF-IDF matrix for genres\n",
        "tfidf = TfidfVectorizer()\n",
        "genre_matrix = tfidf.fit_transform(df[\"genres\"])\n",
        "\n",
        "# 🔹 Compute cosine similarity\n",
        "cosine_sim = cosine_similarity(genre_matrix, genre_matrix)\n",
        "\n",
        "# 🔹 Recommendation Function with Fuzzy Matching\n",
        "def recommend_movies(movie_name, df, cosine_sim):\n",
        "    movie_name_cleaned = movie_name.strip().lower()\n",
        "\n",
        "    # ✅ Use fuzzy matching to find the closest title\n",
        "    close_matches = get_close_matches(movie_name_cleaned, df[\"title_cleaned\"], n=1, cutoff=0.7)\n",
        "\n",
        "    if not close_matches:\n",
        "        print(f\"❌ '{movie_name}' not found in the dataset. Please check the spelling or try another movie.\")\n",
        "        return []\n",
        "\n",
        "    # ✅ Use the closest matched movie\n",
        "    matched_movie = close_matches[0]\n",
        "    index = df[df[\"title_cleaned\"] == matched_movie].index[0]\n",
        "    movie_genres = df.loc[index, \"genres_cleaned\"]\n",
        "\n",
        "    # 🎯 Find similar movies\n",
        "    similarity_scores = list(enumerate(cosine_sim[index]))\n",
        "    similarity_scores = sorted(similarity_scores, key=lambda x: x[1], reverse=True)\n",
        "\n",
        "    recommendations = []\n",
        "\n",
        "    for i, sim_score in similarity_scores:\n",
        "        if i == index:\n",
        "            continue  # Skip the input movie itself\n",
        "\n",
        "        candidate_genres = df.loc[i, \"genres_cleaned\"]\n",
        "        genre_match_count = len(movie_genres.intersection(candidate_genres))\n",
        "\n",
        "        # 📌 At least 2 genres should match\n",
        "        if genre_match_count >= 2:\n",
        "            recommendations.append((df.loc[i, \"title\"], sim_score))\n",
        "\n",
        "        if len(recommendations) >= 10:\n",
        "            break  # Stop after 10 recommendations\n",
        "\n",
        "    print(f\"\\n✅ Found: {df.loc[index, 'title']} (You searched: '{movie_name}')\")  # ✅ Shows the matched title\n",
        "\n",
        "    return [title for title, _ in recommendations]\n",
        "\n",
        "# 🔹 Example Usage\n",
        "movie_input = input(\"Enter a movie name: \")\n",
        "recommended_movies = recommend_movies(movie_input, df, cosine_sim)\n",
        "\n",
        "if recommended_movies:\n",
        "    print(\"\\n🎬 Recommended Movies:\")\n",
        "    for movie in recommended_movies:\n",
        "        print(f\"🔹 {movie}\")\n"
      ],
      "metadata": {
        "colab": {
          "base_uri": "https://localhost:8080/"
        },
        "id": "qMgs_LSJ9MUv",
        "outputId": "49c97c42-f4ed-4f12-cb3e-4f6a0512b7c8"
      },
      "execution_count": null,
      "outputs": [
        {
          "output_type": "stream",
          "name": "stdout",
          "text": [
            "Enter a movie name: Little Women\n",
            "\n",
            "✅ Found: Little Women (You searched: 'Little Women')\n",
            "\n",
            "🎬 Recommended Movies:\n",
            "🔹 Sense and Sensibility\n",
            "🔹 Leaving Las Vegas\n",
            "🔹 Persuasion\n",
            "🔹 Restoration\n",
            "🔹 How To Make An American Quilt\n",
            "🔹 When Night Is Falling\n",
            "🔹 Bed of Roses\n",
            "🔹 Once Upon a Time... When We Were Colored\n",
            "🔹 Angels and Insects\n",
            "🔹 The Bridges of Madison County\n"
          ]
        }
      ]
    }
  ]
}